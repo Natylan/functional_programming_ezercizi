{
  "nbformat": 4,
  "nbformat_minor": 0,
  "metadata": {
    "colab": {
      "name": "Nata functional_programming_ezercizi.ipynb",
      "provenance": [],
      "collapsed_sections": []
    },
    "kernelspec": {
      "name": "python3",
      "display_name": "Python 3"
    }
  },
  "cells": [
    {
      "cell_type": "markdown",
      "metadata": {
        "id": "w1sNdMYCq0Gs"
      },
      "source": [
        "# Functional Programming\n",
        "\n",
        "Declarative not Imperative. Il modo di programmare in analisi dei dati.\n",
        "\n",
        "(tutti i dati vengono processati ogni riga)"
      ]
    },
    {
      "cell_type": "markdown",
      "metadata": {
        "id": "W0YK9PzprFE-"
      },
      "source": [
        "## Tertiary Function\n",
        "\n",
        "Schema base:\n",
        "\n",
        "`variabile_successiva = valore_true if condition else valore_false`"
      ]
    },
    {
      "cell_type": "code",
      "metadata": {
        "id": "3qzIxBUlqYyy",
        "colab": {
          "base_uri": "https://localhost:8080/"
        },
        "outputId": "638b9a9f-0b1f-4375-9936-6c4380a5164b"
      },
      "source": [
        "## Vecchio stile\n",
        "def azzera_o_raddoppia(n):\n",
        "  # questa funzione ritorna il valore raddoppiato quando il valore è pari, azzera il valore se è dispari.\n",
        "  if n % 2 == 0:\n",
        "    n = n * 2\n",
        "  else:\n",
        "    n = 0\n",
        "  return n * 2 if n % 2 == 0 else 0\n",
        "\n",
        "print('n = 5, risultato = ', azzera_o_raddoppia(5))"
      ],
      "execution_count": null,
      "outputs": [
        {
          "output_type": "stream",
          "text": [
            "n = 5, risultato =  0\n"
          ],
          "name": "stdout"
        }
      ]
    },
    {
      "cell_type": "code",
      "metadata": {
        "id": "2lJcOW3irkEy",
        "colab": {
          "base_uri": "https://localhost:8080/"
        },
        "outputId": "329244c8-9a84-4088-c17b-331ead0a3bde"
      },
      "source": [
        "## Da adesso in poi\n",
        "n = 5\n",
        "print('n = 5, risultato = ', n * 2 if n % 2 == 0 else 0)"
      ],
      "execution_count": null,
      "outputs": [
        {
          "output_type": "stream",
          "text": [
            "n = 5, risultato =  0\n"
          ],
          "name": "stdout"
        }
      ]
    },
    {
      "cell_type": "markdown",
      "metadata": {
        "id": "l4-frqV4rEYZ"
      },
      "source": [
        "Stessa cosa, ma la mentalità è differente. Nel primo esempio si passa linea per linea un valore, nel secondo la variabile potrebbe essere una lista o un'altra variabile strutturata e si processerebbe tutto insieme ugualmente."
      ]
    },
    {
      "cell_type": "markdown",
      "metadata": {
        "id": "bxFkxkj-sUUy"
      },
      "source": [
        "## Comprehension Lists\n",
        "\n",
        "Comprehension Lists sono un modo per processare tutta la lista scrivendo una sola linea. "
      ]
    },
    {
      "cell_type": "markdown",
      "metadata": {
        "id": "w_C2mMPYtDI6"
      },
      "source": [
        "### Filtro\n",
        "\n",
        "Schema:\n",
        "\n",
        "\n",
        "\n",
        "```\n",
        "lista_finale = [valore for valore in lista_iniziale if condizione_sul_valore]\n",
        "```\n",
        "\n"
      ]
    },
    {
      "cell_type": "code",
      "metadata": {
        "id": "84XgoPDBsSc4",
        "colab": {
          "base_uri": "https://localhost:8080/"
        },
        "outputId": "067b9ad9-5cbf-47e9-9310-ad23a5f2becd"
      },
      "source": [
        "lista = list(range(10))\n",
        "print('Lista iniziale: ', lista)\n",
        "\n",
        "solo_num_pari = [n for n in lista if n % 2 == 0]\n",
        "print('Lista filtrata: ', solo_num_pari)\n",
        "\n",
        "# Prova a cambiare il codice per ottenere il quadrato dei numeri invece che il numero stesso."
      ],
      "execution_count": null,
      "outputs": [
        {
          "output_type": "stream",
          "text": [
            "Lista iniziale:  [0, 1, 2, 3, 4, 5, 6, 7, 8, 9]\n",
            "Lista filtrata:  [0, 2, 4, 6, 8]\n"
          ],
          "name": "stdout"
        }
      ]
    },
    {
      "cell_type": "code",
      "metadata": {
        "id": "ZyP8tC1xtijF",
        "colab": {
          "base_uri": "https://localhost:8080/"
        },
        "outputId": "43c357bb-ddfb-4c4d-cf87-88eb0f7904f1"
      },
      "source": [
        "# Condizione sulla posizione\n",
        "\n",
        "lista = list(range(10))\n",
        "print('Lista iniziale: ', lista)\n",
        "\n",
        "solo_ultimi_3_valori = [n for i, n in enumerate(lista) if i >= len(lista)-3]\n",
        "print('Lista filtrata: ', solo_ultimi_3_valori)\n",
        "\n",
        "# Prova a cambiare il codice per ottenere i primi tre valori. \n",
        "# Poi prova a ottenere quelli di mezzo tranne i primi tre e gli ultimi tre."
      ],
      "execution_count": null,
      "outputs": [
        {
          "output_type": "stream",
          "text": [
            "Lista iniziale:  [0, 1, 2, 3, 4, 5, 6, 7, 8, 9]\n",
            "Lista filtrata:  [7, 8, 9]\n"
          ],
          "name": "stdout"
        }
      ]
    },
    {
      "cell_type": "markdown",
      "metadata": {
        "id": "BzkHPlmKtF9k"
      },
      "source": [
        "### Manipolazione\n",
        "\n",
        "Schema: \n",
        "\n",
        "\n",
        "\n",
        "```\n",
        "lista_finale = [valore_true if condizione_su_valore else valore_false for valore in lista_iniziale]\n",
        "```\n",
        "\n"
      ]
    },
    {
      "cell_type": "code",
      "metadata": {
        "id": "_wf7zCMPtIRL",
        "colab": {
          "base_uri": "https://localhost:8080/"
        },
        "outputId": "b9edaa6d-77c8-46a6-9e0a-b144d9aa7c79"
      },
      "source": [
        "lista = list(range(10))\n",
        "print('Lista iniziale: ', lista)\n",
        "\n",
        "lista_quadra = [ n ** 2 for n in lista]\n",
        "\n",
        "dispari_a_zero = [n if n % 2 == 0 else 0 for n in lista ]\n",
        "print('Lista modificata: ', dispari_a_zero)\n",
        "\n",
        "# Prova a cambiare il codice per ottenere il triplo dei numeri invece che il numero stesso."
      ],
      "execution_count": null,
      "outputs": [
        {
          "output_type": "stream",
          "text": [
            "Lista iniziale:  [0, 1, 2, 3, 4, 5, 6, 7, 8, 9]\n",
            "Lista modificata:  [0, 0, 2, 0, 4, 0, 6, 0, 8, 0]\n"
          ],
          "name": "stdout"
        }
      ]
    },
    {
      "cell_type": "code",
      "metadata": {
        "id": "2Mz8JgIqeGyv",
        "colab": {
          "base_uri": "https://localhost:8080/"
        },
        "outputId": "a9956b0e-acc8-43e5-f3c7-e6852f61bd12"
      },
      "source": [
        "lista = [2, 3, 89, 1]\n",
        "# della lis, ta se i valori sono nella prima metà della lista, raddoppia, altrimenti dimezza\n",
        "[n * 2 if i < len(lista) / 2 else n / 2 for i, n in enumerate(lista)]"
      ],
      "execution_count": null,
      "outputs": [
        {
          "output_type": "execute_result",
          "data": {
            "text/plain": [
              "[4, 6, 44.5, 0.5]"
            ]
          },
          "metadata": {
            "tags": []
          },
          "execution_count": 60
        }
      ]
    },
    {
      "cell_type": "markdown",
      "metadata": {
        "id": "WImwClDotIkJ"
      },
      "source": [
        "### Manipolazione con filtro\n",
        "\n",
        "Schema:\n",
        "\n",
        "\n",
        "\n",
        "```\n",
        "lista_finale = [valore_true if condizione_su_valore else valore_false for valore in lista_iniziale if condizione_sul_valore]\n",
        "```\n",
        "\n",
        "\n",
        "```\n",
        "# Questo è formattato come codice\n",
        "```\n",
        "\n",
        "\n",
        "\n",
        "\n"
      ]
    },
    {
      "cell_type": "code",
      "metadata": {
        "id": "ecA30XXAtLEv"
      },
      "source": [
        "lista = list(range(20))\n",
        "print('Lista iniziale: ', lista)\n",
        "\n",
        "dispari_a_zero_se_multipli_di_3 = [n if n % 2 == 0 else 0 for n in lista if n % 3 == 0]\n",
        "print('Lista modificata: ', dispari_a_zero_se_multipli_di_3)\n",
        "\n",
        "# Prova a cambiare il codice per ottenere il terzo dei numeri in int invece che il numero stesso."
      ],
      "execution_count": null,
      "outputs": []
    },
    {
      "cell_type": "markdown",
      "metadata": {
        "id": "XVfGU3PktLXA"
      },
      "source": [
        "### Nested lists\n",
        "\n",
        "Pre manipolare le liste nelle liste.\n",
        "\n",
        "Schema:\n",
        "\n",
        "\n",
        "\n",
        "```\n",
        "lista_finale = [valore for lista_dentro in lista_fuori for valore in lista_dentro]\n",
        "```\n",
        "\n"
      ]
    },
    {
      "cell_type": "code",
      "metadata": {
        "id": "Bgguf23qtPBf",
        "colab": {
          "base_uri": "https://localhost:8080/"
        },
        "outputId": "2e02499c-ba38-4622-87e0-28154c6b5556"
      },
      "source": [
        "nested = [[1, 2, 3],[4, 5, 6, 7], [9]]\n",
        "print('Lista iniziale: ', nested)\n",
        "\n",
        "lista_piatta = [v for lista_dentro in nested for v in lista_dentro ]\n",
        "print('lista_piatta: ', lista_piatta)"
      ],
      "execution_count": null,
      "outputs": [
        {
          "output_type": "stream",
          "text": [
            "Lista iniziale:  [[1, 2, 3], [4, 5, 6, 7], [9]]\n",
            "lista_piatta:  [1, 2, 3, 4, 5, 6, 7, 9]\n"
          ],
          "name": "stdout"
        }
      ]
    },
    {
      "cell_type": "markdown",
      "metadata": {
        "id": "_DI4rLucvQzF"
      },
      "source": [
        "## Esercizi"
      ]
    },
    {
      "cell_type": "code",
      "metadata": {
        "id": "afN2CRyBvR_p",
        "colab": {
          "base_uri": "https://localhost:8080/"
        },
        "outputId": "99ec632a-265b-4b30-ea7c-fbe31eecb05f"
      },
      "source": [
        "# Data la lista delle temperature in Celsius, trasformarla in Fahrenheit. Formula su Google ;)\n",
        "\n",
        "temp = [27, 28, 32, 12, 24, 25, 33, 10, 9, 8, 20]\n",
        "print('Temp in Celsius: ', temp)\n",
        "\n",
        "temp_far = [(n*9/5+32)for n in temp]  # completa qui\n",
        "print('Temp in Fahrenheit: ', temp_far)"
      ],
      "execution_count": null,
      "outputs": [
        {
          "output_type": "stream",
          "text": [
            "Temp in Celsius:  [27, 28, 32, 12, 24, 25, 33, 10, 9, 8, 20]\n",
            "Temp in Fahrenheit:  [80.6, 82.4, 89.6, 53.6, 75.2, 77.0, 91.4, 50.0, 48.2, 46.4, 68.0]\n"
          ],
          "name": "stdout"
        }
      ]
    },
    {
      "cell_type": "markdown",
      "metadata": {
        "id": "E7NznfYXRbor"
      },
      "source": [
        "### Additional Exercises"
      ]
    },
    {
      "cell_type": "code",
      "metadata": {
        "id": "VgsRFuFPRaw3",
        "colab": {
          "base_uri": "https://localhost:8080/"
        },
        "outputId": "fb1cb125-6fe9-458d-aac7-e001fa41eda9"
      },
      "source": [
        "lst = [1, 4, 9, 16, 25, 36, 49, 64, 81, 100]\r\n",
        "\r\n",
        "### Crea una lista che abbia tutti i valori di lst, ma al quadrato.\r\n",
        "lst_sq = [n**2 for n in lst]\r\n",
        "print(lst_sq)"
      ],
      "execution_count": null,
      "outputs": [
        {
          "output_type": "stream",
          "text": [
            "[1, 16, 81, 256, 625, 1296, 2401, 4096, 6561, 10000]\n"
          ],
          "name": "stdout"
        }
      ]
    },
    {
      "cell_type": "code",
      "metadata": {
        "id": "SSUUVxM-SXIC",
        "colab": {
          "base_uri": "https://localhost:8080/"
        },
        "outputId": "3cc39ce5-df6c-4471-ca0e-9af9b65338b1"
      },
      "source": [
        "### Utilizza comprehension lists per costriure una lista che abbia solo i valori pari di lst.\r\n",
        "lst = [1, 4, 9, 16, 25, 36, 49, 64, 81, 100]\r\n",
        "pari_ls=[n for n in lst if n % 2 == 0]\r\n",
        "print(pari_ls)"
      ],
      "execution_count": null,
      "outputs": [
        {
          "output_type": "stream",
          "text": [
            "[4, 16, 36, 64, 100]\n"
          ],
          "name": "stdout"
        }
      ]
    },
    {
      "cell_type": "code",
      "metadata": {
        "id": "Volq39IORsiB",
        "colab": {
          "base_uri": "https://localhost:8080/"
        },
        "outputId": "e0c3c902-cba7-4c6c-b046-127ec24080db"
      },
      "source": [
        "### Utilizza comprehension lists per costriure una lista che abbia i seguenti valori [2, 8, 18, 32, 50]. Cerca di capire come li ho ottenuti e \r\n",
        "###poi fai lo stesso con la programmazione.\r\n",
        "rng=range(1,6)\r\n",
        "lst=[n**2*2 for n in rng]\r\n",
        "print(lst)\r\n"
      ],
      "execution_count": null,
      "outputs": [
        {
          "output_type": "stream",
          "text": [
            "[2, 8, 18, 32, 50]\n"
          ],
          "name": "stdout"
        }
      ]
    },
    {
      "cell_type": "code",
      "metadata": {
        "id": "czLRybtRSEgP",
        "colab": {
          "base_uri": "https://localhost:8080/"
        },
        "outputId": "8b2c077a-8489-498a-de58-54dc6534e36f"
      },
      "source": [
        "### Utilizza comprehension lists per costriure una lista che abbia i seguenti valori [1, 2, 9, 8, 25, 18, 49, 32, 81, 50]. Cerca di capire \r\n",
        "# come li ho ottenuti e poi fai lo stesso \r\n",
        "### con la programmazione.\r\n",
        "rng=list(range(1,10))\r\n",
        "nva =[]\r\n",
        "for n in rng:\r\n",
        "  if n%2==1:\r\n",
        "    nva += [n**2]\r\n",
        "  if n<6:\r\n",
        "    nva += [n**2*2]\r\n",
        "print(nva)\r\n",
        "\r\n",
        "#non sono riuscita a risolvere con list comprehension"
      ],
      "execution_count": null,
      "outputs": [
        {
          "output_type": "stream",
          "text": [
            "[1, 2, 8, 9, 18, 32, 25, 50, 49, 81]\n"
          ],
          "name": "stdout"
        }
      ]
    },
    {
      "cell_type": "code",
      "metadata": {
        "colab": {
          "base_uri": "https://localhost:8080/"
        },
        "id": "h6cJhxAemSr2",
        "outputId": "151c9a59-81d9-42c8-ad18-700f88b35a82"
      },
      "source": [
        "rng=list(range(1,10))\r\n",
        "nva =[]\r\n",
        "for n in rng:\r\n",
        "  if n%2==1:\r\n",
        "    nva += [n**2]\r\n",
        "  if n<6:\r\n",
        "    nva += [n**2*2]\r\n",
        "print(nva)\r\n",
        "\r\n",
        "#[1, 9, 25, 49, 81]"
      ],
      "execution_count": null,
      "outputs": [
        {
          "output_type": "stream",
          "text": [
            "[1, 2, 8, 9, 18, 32, 25, 50, 49, 81]\n"
          ],
          "name": "stdout"
        }
      ]
    },
    {
      "cell_type": "code",
      "metadata": {
        "colab": {
          "base_uri": "https://localhost:8080/"
        },
        "id": "5UvzAGwgpbdQ",
        "outputId": "647956f9-e43d-4bda-dcd8-2bb775757c78"
      },
      "source": [
        "rng=list(range(1,10))\r\n",
        "nva_impar =[n**2 for n in rng if n%2==1]\r\n",
        "nva =[n**2*2 for n in rng if n<6]\r\n",
        "total = list(zip(nva_impar, nva))\r\n",
        "print(total)"
      ],
      "execution_count": null,
      "outputs": [
        {
          "output_type": "stream",
          "text": [
            "[(1, 2), (9, 8), (25, 18), (49, 32), (81, 50)]\n"
          ],
          "name": "stdout"
        }
      ]
    },
    {
      "cell_type": "code",
      "metadata": {
        "colab": {
          "base_uri": "https://localhost:8080/"
        },
        "id": "jRmKLceAqaUo",
        "outputId": "90dab26a-bc68-4d06-f8ae-03c512537940"
      },
      "source": [
        "rng=list(range(1,10))\r\n",
        "nva_impar =[n**2 for n in rng if n%2==1]\r\n",
        "nva =[n**2*2 for n in rng if n<6]\r\n",
        "\r\n",
        "total = list(zip(nva_impar, nva))\r\n",
        "total_final = []\r\n",
        "for n in total:\r\n",
        "  total_final += n\r\n",
        "print(total_final)\r\n"
      ],
      "execution_count": null,
      "outputs": [
        {
          "output_type": "stream",
          "text": [
            "[1, 2, 9, 8, 25, 18, 49, 32, 81, 50]\n"
          ],
          "name": "stdout"
        }
      ]
    },
    {
      "cell_type": "code",
      "metadata": {
        "colab": {
          "base_uri": "https://localhost:8080/"
        },
        "id": "9vLPJwSwnFc9",
        "outputId": "877abb99-2583-40a1-c2f0-83eadd8e118c"
      },
      "source": [
        "#variazioni grafiche\r\n",
        "rng=list(range(1,10))\r\n",
        "nva =[]\r\n",
        "for n in rng:\r\n",
        "  if n%2==1:\r\n",
        "    nva += [n**2]\r\n",
        "  if n<6:\r\n",
        "    nva += [n**2*2]\r\n",
        "for n in nva:\r\n",
        "  print(n*'/')\r\n",
        "for u in reversed(nva):\r\n",
        "  print(u*'\\\\')\r\n",
        "  \r\n",
        "print(nva)"
      ],
      "execution_count": null,
      "outputs": [
        {
          "output_type": "stream",
          "text": [
            "/\n",
            "//\n",
            "////////\n",
            "/////////\n",
            "//////////////////\n",
            "////////////////////////////////\n",
            "/////////////////////////\n",
            "//////////////////////////////////////////////////\n",
            "/////////////////////////////////////////////////\n",
            "/////////////////////////////////////////////////////////////////////////////////\n",
            "\\\\\\\\\\\\\\\\\\\\\\\\\\\\\\\\\\\\\\\\\\\\\\\\\\\\\\\\\\\\\\\\\\\\\\\\\\\\\\\\\\\\\\\\\\\\\\\\\\\\\\\\\\\\\\\\\\\\\\\\\\\\\\\\\\\\\\\\\\\\\\\\\\\\\\\\\\\\\\\\\\\n",
            "\\\\\\\\\\\\\\\\\\\\\\\\\\\\\\\\\\\\\\\\\\\\\\\\\\\\\\\\\\\\\\\\\\\\\\\\\\\\\\\\\\\\\\\\\\\\\\\\\\\n",
            "\\\\\\\\\\\\\\\\\\\\\\\\\\\\\\\\\\\\\\\\\\\\\\\\\\\\\\\\\\\\\\\\\\\\\\\\\\\\\\\\\\\\\\\\\\\\\\\\\\\\\n",
            "\\\\\\\\\\\\\\\\\\\\\\\\\\\\\\\\\\\\\\\\\\\\\\\\\\\n",
            "\\\\\\\\\\\\\\\\\\\\\\\\\\\\\\\\\\\\\\\\\\\\\\\\\\\\\\\\\\\\\\\\\n",
            "\\\\\\\\\\\\\\\\\\\\\\\\\\\\\\\\\\\\\n",
            "\\\\\\\\\\\\\\\\\\\n",
            "\\\\\\\\\\\\\\\\\n",
            "\\\\\n",
            "\\\n",
            "[1, 2, 8, 9, 18, 32, 25, 50, 49, 81]\n"
          ],
          "name": "stdout"
        }
      ]
    },
    {
      "cell_type": "code",
      "metadata": {
        "colab": {
          "base_uri": "https://localhost:8080/"
        },
        "id": "BuzvEqTWCGlm",
        "outputId": "aa667ad1-ff74-4a95-901d-f8037085f2dc"
      },
      "source": [
        "#Con List comprehension:\r\n",
        "rng=list(range(1,10))\r\n",
        "nva =[(n**2*2) if n<6  else n**2 for n in rng  if n%2==1]\r\n",
        "#[n if n % 2 == 0 else 0 for n in lista if n % 3 == 0]\r\n",
        "\r\n",
        "print(nva)"
      ],
      "execution_count": null,
      "outputs": [
        {
          "output_type": "stream",
          "text": [
            "[2, 18, 50, 49, 81]\n"
          ],
          "name": "stdout"
        }
      ]
    },
    {
      "cell_type": "code",
      "metadata": {
        "id": "sNrI00kSSkmr",
        "colab": {
          "base_uri": "https://localhost:8080/"
        },
        "outputId": "8d4c2c7d-0ece-409d-edc5-00a28fc63c30"
      },
      "source": [
        "str_lst = ['Michele', ' Gianni         ', ' Andrè'                               , \" qualcun'altro\"]\r\n",
        "dep_lst = [item.strip() for item in str_lst]\r\n",
        "#dep_lst = [item for item if item[0] == ' ']\r\n",
        "\r\n",
        "\r\n",
        "print(dep_lst)\r\n",
        "## Crea una lista che abbia le stringhe di str_lst ma, quando la stringa comincia con uno spazio, lo spazio viene tolto.\r\n",
        "\r\n"
      ],
      "execution_count": null,
      "outputs": [
        {
          "output_type": "stream",
          "text": [
            "['Michele', 'Gianni', 'Andrè', \"qualcun'altro\"]\n"
          ],
          "name": "stdout"
        }
      ]
    },
    {
      "cell_type": "code",
      "metadata": {
        "id": "NtsbqSgITBWX",
        "colab": {
          "base_uri": "https://localhost:8080/"
        },
        "outputId": "798c97d9-5d27-4007-ec45-651aac6646cd"
      },
      "source": [
        "## Crea una lista che abbia solo i valori di str_lst con i nomi. Dovrebbe venire ['Michele', ' Gianni', 'Andrè']. \r\n",
        "#Puoi fare più passaggi diversi con comprehension lists.\r\n",
        "str_lst = ['Michele', ' Gianni         ', ' Andrè', \" qualcun'altro\"]\r\n",
        "dep_lst = [item.strip() for item in str_lst]\r\n",
        "#print(dep_lst)\r\n",
        "solo_nomi = []\r\n",
        "for nome in dep_lst:\r\n",
        "  if nome.isidentifier():\r\n",
        "    solo_nomi+=[nome]\r\n",
        "print(solo_nomi)"
      ],
      "execution_count": null,
      "outputs": [
        {
          "output_type": "stream",
          "text": [
            "['Michele', 'Gianni', 'Andrè']\n"
          ],
          "name": "stdout"
        }
      ]
    },
    {
      "cell_type": "markdown",
      "metadata": {
        "id": "E85mJssOEJ-n"
      },
      "source": [
        "con list Comp...\r\n"
      ]
    },
    {
      "cell_type": "code",
      "metadata": {
        "colab": {
          "base_uri": "https://localhost:8080/"
        },
        "id": "7OcTy-OGEM4J",
        "outputId": "42d2e22d-0c36-42d5-f60e-907319bf7454"
      },
      "source": [
        "## Crea una lista che abbia solo i valori di str_lst con i nomi. Dovrebbe venire ['Michele', ' Gianni', 'Andrè']. \r\n",
        "#Puoi fare più passaggi diversi con comprehension lists.\r\n",
        "#from https://docs.python.org/3.1/reference/lexical_analysis.html#identifiers\r\n",
        "\r\n",
        "str_lst = ['Michele', ' Gianni         ', ' Andrè', \" qualcun'altro\"]\r\n",
        "dep_lst = [item.strip() for item in str_lst]\r\n",
        "#print(dep_lst)\r\n",
        "solo_nomi = [nome for nome in dep_lst if nome.isidentifier()]\r\n",
        "\r\n",
        "print(solo_nomi)"
      ],
      "execution_count": null,
      "outputs": [
        {
          "output_type": "stream",
          "text": [
            "['Michele', 'Gianni', 'Andrè']\n"
          ],
          "name": "stdout"
        }
      ]
    },
    {
      "cell_type": "code",
      "metadata": {
        "id": "unUa0ciyTIQm",
        "colab": {
          "base_uri": "https://localhost:8080/"
        },
        "outputId": "a357a8d0-772a-41c8-cd95-158c5ba96c67"
      },
      "source": [
        "## Crea una lista con i valori di str_lst che quando il valore non è un nome sostituisce con ''. Dovrebbe venire \r\n",
        "#['Michele', ' Gianni', 'Andrè', '']. \r\n",
        "## Puoi fare più passaggi diversi con comprehension lists.\r\n",
        "str_lst = ['Michele', ' Gianni         ', ' Andrè', \" qualcun'altro\"]\r\n",
        "dep_lst = [item.strip() for item in str_lst]\r\n",
        "#print(dep_lst)\r\n",
        "solo_nomi = []\r\n",
        "for nome in dep_lst:\r\n",
        "  if nome.isidentifier():\r\n",
        "    solo_nomi += [nome]\r\n",
        "  else: \r\n",
        "    solo_nomi+=[nome.replace(nome, '')]\r\n",
        "print(solo_nomi)\r\n",
        "\r\n",
        "###############Continuazione list comprehension\r\n"
      ],
      "execution_count": null,
      "outputs": [
        {
          "output_type": "stream",
          "text": [
            "['Michele', 'Gianni', 'Andrè', '']\n"
          ],
          "name": "stdout"
        }
      ]
    },
    {
      "cell_type": "code",
      "metadata": {
        "colab": {
          "base_uri": "https://localhost:8080/"
        },
        "id": "-J2b3kXaEspT",
        "outputId": "dc846d35-9935-4961-f55a-803e31c68cac"
      },
      "source": [
        "################con list comprehension:\r\n",
        "str_lst = ['Michele', ' Gianni         ', ' Andrè', \" qualcun'altro\"]\r\n",
        "dep_lst = [item.strip() for item in str_lst]\r\n",
        "solo_nomi = [nome if nome.isidentifier() else nome.replace(nome, '') for nome in dep_lst ]\r\n",
        "print(solo_nomi)\r\n",
        "##################ripaso di list comprehension ### Manipolazione con filtro\r\n",
        "#lista_finale = [valore_true if condizione_su_valore else valore_false for valore in lista_iniziale if condizione_sul_valore]\r\n",
        "\r\n"
      ],
      "execution_count": null,
      "outputs": [
        {
          "output_type": "stream",
          "text": [
            "['Michele', 'Gianni', 'Andrè', '']\n"
          ],
          "name": "stdout"
        }
      ]
    },
    {
      "cell_type": "markdown",
      "metadata": {
        "id": "Ciri7bwqVEVc"
      },
      "source": [
        "* Trova tutti i numeri da 1 a 100 che sono divisibili per 7.\r\n",
        "\r\n",
        "* Trova tutti i numeri da 1 a 100 che contengono un 3.\r\n",
        "\r\n",
        "* Creare una lista di tutte le consonanti in \"di me medesmo meco mi vergogno e del mio vaneggiar vergogna è 'l frutto\".\r\n",
        "\r\n",
        "* Creare una lista con tutti i numeri in \"decise di entrare in guerra il 24 maggio 1915. Il comando dell'esercito venne affidato al generale Luigi Cadorna, che aveva come obiettivo il raggiungimento di Vienna passando per Lubiana.[4] All'alba del 24 maggio il Regio Esercito sparò il primo colpo di cannone contro le postazioni austro-ungariche asserragliate a Cervignano del Friuli che, poche ore più tardi, divenne la prima città conquistata. All'alba dello stesso giorno la flotta austro-ungarica bombardò la stazione ferroviaria di Manfredonia; alle 23:56, bom\"\r\n",
        "\r\n",
        "* (Interview Question) Write a program that prints the numbers from 1 to 100. But for multiples of three print “Fizz” instead of the number and for the multiples of five print “Buzz”. For numbers which are multiples of both three and five print “FizzBuzz”."
      ]
    },
    {
      "cell_type": "markdown",
      "metadata": {
        "id": "EttPYleR7tzD"
      },
      "source": [
        "Trova tutti i numeri da 1 a 100 che sono divisibili per 7."
      ]
    },
    {
      "cell_type": "code",
      "metadata": {
        "id": "968HcCIb7tKM",
        "colab": {
          "base_uri": "https://localhost:8080/"
        },
        "outputId": "673d4dfa-9349-4db4-bed2-48913d8147cf"
      },
      "source": [
        "seq = list(range(1,101))\r\n",
        "#print(seq)\r\n",
        "div_x_7 = [n for n in seq if n % 7 == 0]\r\n",
        "print(div_x_7)\r\n",
        "\r\n"
      ],
      "execution_count": null,
      "outputs": [
        {
          "output_type": "stream",
          "text": [
            "[7, 14, 21, 28, 35, 42, 49, 56, 63, 70, 77, 84, 91, 98]\n"
          ],
          "name": "stdout"
        }
      ]
    },
    {
      "cell_type": "markdown",
      "metadata": {
        "id": "cvRl-05vRRBc"
      },
      "source": [
        "Trova tutti i numeri da 1 a 100 che contengono un 3."
      ]
    },
    {
      "cell_type": "code",
      "metadata": {
        "colab": {
          "base_uri": "https://localhost:8080/"
        },
        "id": "PwnYf0xmC4Vn",
        "outputId": "a2d6a902-9958-469c-f516-a289b15999ac"
      },
      "source": [
        "#####1.Tentativo di trovare i numeri con 3\r\n",
        "#print(\"e\" in \"blueberry\")\r\n",
        "seq = list(range(1,15))\r\n",
        "str_seq = str (seq)\r\n",
        "new_list = []\r\n",
        "print(str_seq)\r\n",
        "for s in str_seq:\r\n",
        "  if s in '3':\r\n",
        "    new_list += [s]\r\n"
      ],
      "execution_count": null,
      "outputs": [
        {
          "output_type": "stream",
          "text": [
            "['r', 'a', 'n', 'g', 'e', '(', '1', ',', ' ', '1', '5', ')']\n"
          ],
          "name": "stdout"
        }
      ]
    },
    {
      "cell_type": "code",
      "metadata": {
        "colab": {
          "base_uri": "https://localhost:8080/"
        },
        "id": "DxpMDVetypJk",
        "outputId": "39b6e913-6b4e-491e-ff2b-ecba92d25a23"
      },
      "source": [
        "##QUESTO è OTTIMO, usando il metodo find()\r\n",
        "#seq = list (#)\r\n",
        "#print(type(seq[1]))\r\n",
        "\r\n",
        "\r\n",
        "#str_seq = str(num)\r\n",
        "#print(str_seq[2])\r\n",
        "new_list = []\r\n",
        "#print(seq)\r\n",
        "#for s in str_seq:\r\n",
        "for s in range(1,105):\r\n",
        "  s_str = str(s)\r\n",
        "  #if s[0] == \"3\" or s[-1]== \"3\":\r\n",
        "  if s_str.find(\"3\") != -1:  \r\n",
        "    new_list += [s ]\r\n",
        "  #print(s_str.find(\"3\"))    #c'è un 3:\r\n",
        "#print(s_str.find(\"3\"))\r\n",
        "print(new_list)\r\n"
      ],
      "execution_count": null,
      "outputs": [
        {
          "output_type": "stream",
          "text": [
            "[3, 13, 23, 30, 31, 32, 33, 34, 35, 36, 37, 38, 39, 43, 53, 63, 73, 83, 93, 103]\n"
          ],
          "name": "stdout"
        }
      ]
    },
    {
      "cell_type": "code",
      "metadata": {
        "colab": {
          "base_uri": "https://localhost:8080/"
        },
        "id": "CsxIWUlJxcSE",
        "outputId": "f49996a2-bbe3-49f7-961b-c2bf418d8035"
      },
      "source": [
        "new_list = [s for s in range(1,105) if str(s).find(\"3\") != -1]\r\n",
        "print(new_list)"
      ],
      "execution_count": null,
      "outputs": [
        {
          "output_type": "stream",
          "text": [
            "[3, 13, 23, 30, 31, 32, 33, 34, 35, 36, 37, 38, 39, 43, 53, 63, 73, 83, 93, 103]\n"
          ],
          "name": "stdout"
        }
      ]
    },
    {
      "cell_type": "code",
      "metadata": {
        "colab": {
          "base_uri": "https://localhost:8080/"
        },
        "id": "_GHBXmFf25if",
        "outputId": "c1db3fef-be26-4d59-beb7-00d9eab8f034"
      },
      "source": [
        "## funziona solo se inserisco i numeri come caratteri anzi che numeri convertiti a stringa\r\n",
        "tex = [\"3\", \"23\", \"13\", \"43\", \"25\", \"17\"]\r\n",
        "\r\n",
        "for item in tex:\r\n",
        "  if item[0] == \"3\" or item[-1] == \"3\":\r\n",
        "    print(item)"
      ],
      "execution_count": null,
      "outputs": [
        {
          "output_type": "stream",
          "text": [
            "3\n",
            "23\n",
            "13\n",
            "43\n"
          ],
          "name": "stdout"
        }
      ]
    },
    {
      "cell_type": "code",
      "metadata": {
        "colab": {
          "base_uri": "https://localhost:8080/"
        },
        "id": "U_RdBo7_0SrH",
        "outputId": "e28b4fca-4677-492b-c4b5-23ad1c83be95"
      },
      "source": [
        "#####.Tentativo dello stesso essercizio ma con stringa\r\n",
        "tex = [\"g\", \"jgl\", \"opg\"]\r\n",
        "\r\n",
        "for item in tex:\r\n",
        "  if item[0] == \"g\" or item[1]==\"g\":\r\n",
        "    print(item)\r\n",
        "  "
      ],
      "execution_count": null,
      "outputs": [
        {
          "output_type": "stream",
          "text": [
            "g\n",
            "jgl\n"
          ],
          "name": "stdout"
        }
      ]
    },
    {
      "cell_type": "code",
      "metadata": {
        "colab": {
          "base_uri": "https://localhost:8080/"
        },
        "id": "7YvvQhZ_jz9l",
        "outputId": "5a1a51db-c10c-466c-d73c-54c3445a6692"
      },
      "source": [
        "#####2.Tentativo di trovare i numeri con 3\r\n",
        "def any(rng):\r\n",
        "  ls = []\r\n",
        "  for i in rng:\r\n",
        "    if i == 3:\r\n",
        "      ls += [i]\r\n",
        "    else:\r\n",
        "      ls += [0]\r\n",
        "  return ls\r\n",
        "print(any(list(range(1,15))))"
      ],
      "execution_count": null,
      "outputs": [
        {
          "output_type": "stream",
          "text": [
            "[0, 0, 3, 0, 0, 0, 0, 0, 0, 0, 0, 0, 0, 0]\n"
          ],
          "name": "stdout"
        }
      ]
    },
    {
      "cell_type": "markdown",
      "metadata": {
        "id": "GzxCm9xeFmnb"
      },
      "source": [
        "Creare una lista di tutte le consonanti in \"di me medesmo meco mi vergogno e del mio vaneggiar vergogna è 'l frutto\"."
      ]
    },
    {
      "cell_type": "code",
      "metadata": {
        "colab": {
          "base_uri": "https://localhost:8080/"
        },
        "id": "02pgBhD7Jltr",
        "outputId": "df5dbe24-e56c-4544-a33b-aec531561ae7"
      },
      "source": [
        "text = \"di me medesmo meco mi vergogno e del mio vaneggiar vergogna è 'l frutto\"\r\n",
        "#nested_list= [valore for lista_dentro in lista_fuori for valore in lista_dentro]\r\n",
        "            \r\n",
        "#print(lis_text)\r\n",
        "\r\n",
        "#list comprehension anidado para sacar caracteres sueltos dentro de cada palabra dentro del texto\r\n",
        "cons = 'bcdfghjklmnpqrstvwxyz'\r\n",
        "letters = [plb for palabra in text.split() for plb in palabra if plb in cons]\r\n",
        "print(str('he aqui la lista de consonantes'), list(letters))\r\n",
        "\r\n",
        "\r\n",
        "# funcion para filtrar consonantes:\r\n",
        "#def filter_cons(letters):\r\n",
        "  #cons = ['b', 'c', 'd', 'f', 'g', 'h', 'j', 'k', 'l', 'm', 'n', 'p', 'q', 'r', 's', 't','v', 'w', 'x', 'y', 'z']\r\n",
        "  #cons = 'bcdfghjklmnpqrstvwxyz'\r\n",
        " # vocales = ['a', 'b', 'c', 'o', 'u']\r\n",
        "  #return True if(letters in cons) else False\r\n",
        "    #return True\r\n",
        " # else:\r\n",
        " #   return False\r\n",
        "\r\n",
        "#filtered_cons = filter(filter_cons, letters)\r\n",
        "#print(str('he aqui la lista de consonantes'), list(filtered_cons))\r\n",
        "\r\n",
        "#Todo esto que sigue lo simplifico mas abajo con una list comprehension:\r\n",
        "#lst_cons = [cons for cons in filtered_cons]\r\n",
        "#lst_cons = []\r\n",
        "#print('Las consonantes filtradas son:')\r\n",
        "#for cons in filtered_cons:\r\n",
        "#  lst_cons += [cons]\r\n",
        "#print(str ('He aqui la lista de consonantes'), list(lst_cons))\r\n",
        "#text = \"di me medesmo meco mi vergogno e del mio vaneggiar vergogna è 'l frutto\"\r\n"
      ],
      "execution_count": null,
      "outputs": [
        {
          "output_type": "stream",
          "text": [
            "he aqui la lista de consonantes ['d', 'm', 'm', 'd', 's', 'm', 'm', 'c', 'm', 'v', 'r', 'g', 'g', 'n', 'd', 'l', 'm', 'v', 'n', 'g', 'g', 'r', 'v', 'r', 'g', 'g', 'n', 'l', 'f', 'r', 't', 't']\n"
          ],
          "name": "stdout"
        }
      ]
    },
    {
      "cell_type": "markdown",
      "metadata": {
        "id": "I7L0TTh4_AR-"
      },
      "source": [
        "Creare una lista con tutti i numeri in \"decise di entrare in guerra il 24 maggio 1915. Il comando dell'esercito venne affidato al generale Luigi Cadorna, che aveva come obiettivo il raggiungimento di Vienna passando per Lubiana.[4] All'alba del 24 maggio il Regio Esercito sparò il primo colpo di cannone contro le postazioni austro-ungariche asserragliate a Cervignano del Friuli che, poche ore più tardi, divenne la prima città conquistata. All'alba dello stesso giorno la flotta austro-ungarica bombardò la stazione ferroviaria di Manfredonia; alle 23:56, bom\""
      ]
    },
    {
      "cell_type": "code",
      "metadata": {
        "id": "RxzjT4PBuYZq"
      },
      "source": [
        "text =  \"\"\"decise di entrare in guerra il 24 maggio 1915. Il comando dell'esercito venne affidato al generale Luigi Cadorna, \r\n",
        "che aveva come obiettivo il raggiungimento di Vienna passando per Lubiana.[4] All'alba del 24 maggio il Regio Esercito sparò \r\n",
        "il primo colpo di cannone contro le postazioni austro-ungariche asserragliate a Cervignano del Friuli che, poche ore più tardi, \r\n",
        "divenne la prima città conquistata. All'alba dello stesso giorno la flotta austro-ungarica bombardò la stazione ferroviaria di Manfredonia; \r\n",
        "alle 23:56, bom\"\"\"\r\n",
        "\r\n",
        "text_lst = text.split()\r\n",
        "\r\n",
        "\r\n",
        "  print(string.digits) \r\n",
        "#print(filter)\r\n",
        "#word.digits"
      ],
      "execution_count": null,
      "outputs": []
    },
    {
      "cell_type": "code",
      "metadata": {
        "colab": {
          "base_uri": "https://localhost:8080/"
        },
        "id": "PkV2Vii__BrX",
        "outputId": "4a6425b0-eb42-4c3d-ad29-3ebe5e7c1285"
      },
      "source": [
        "text =  \"\"\"decise di entrare in guerra il 24 maggio 1915. Il comando dell'esercito venne affidato al generale Luigi Cadorna, \r\n",
        "che aveva come obiettivo il raggiungimento di Vienna passando per Lubiana.[4] All'alba del 24 maggio il Regio Esercito sparò \r\n",
        "il primo colpo di cannone contro le postazioni austro-ungariche asserragliate a Cervignano del Friuli che, poche ore più tardi, \r\n",
        "divenne la prima città conquistata. All'alba dello stesso giorno la flotta austro-ungarica bombardò la stazione ferroviaria di Manfredonia; \r\n",
        "alle 23:56, bom\"\"\"\r\n",
        "\r\n",
        " #filtro = int(filter(text.isdigit, text))\r\n",
        " #print(filtro)\r\n",
        "#\r\n",
        "\r\n",
        "\r\n",
        "list_text = text.split()\r\n",
        "print(list_text)\r\n",
        "solo_num = []\r\n",
        "for cha in list_text:\r\n",
        "  if cha.isdecimal():\r\n",
        "    solo_num += [cha]\r\n",
        "print(solo_num)"
      ],
      "execution_count": null,
      "outputs": [
        {
          "output_type": "stream",
          "text": [
            "['decise', 'di', 'entrare', 'in', 'guerra', 'il', '24', 'maggio', '1915.', 'Il', 'comando', \"dell'esercito\", 'venne', 'affidato', 'al', 'generale', 'Luigi', 'Cadorna,', 'che', 'aveva', 'come', 'obiettivo', 'il', 'raggiungimento', 'di', 'Vienna', 'passando', 'per', 'Lubiana.[4]', \"All'alba\", 'del', '24', 'maggio', 'il', 'Regio', 'Esercito', 'sparò', 'il', 'primo', 'colpo', 'di', 'cannone', 'contro', 'le', 'postazioni', 'austro-ungariche', 'asserragliate', 'a', 'Cervignano', 'del', 'Friuli', 'che,', 'poche', 'ore', 'più', 'tardi,', 'divenne', 'la', 'prima', 'città', 'conquistata.', \"All'alba\", 'dello', 'stesso', 'giorno', 'la', 'flotta', 'austro-ungarica', 'bombardò', 'la', 'stazione', 'ferroviaria', 'di', 'Manfredonia;', 'alle', '23:56,', 'bom']\n",
            "['24', '24']\n"
          ],
          "name": "stdout"
        }
      ]
    },
    {
      "cell_type": "code",
      "metadata": {
        "id": "xtoNWWPYLpkh",
        "colab": {
          "base_uri": "https://localhost:8080/"
        },
        "outputId": "3afb6aab-5d33-46f1-86dc-c1ff518b8a53"
      },
      "source": [
        "text =  \"\"\"decise di entrare in guerra il 24 maggio 1915. Il comando dell'esercito venne affidato al generale Luigi Cadorna, \r\n",
        "che aveva come obiettivo il raggiungimento di Vienna passando per Lubiana.[4] All'alba del 24 maggio il Regio Esercito sparò \r\n",
        "il primo colpo di cannone contro le postazioni austro-ungariche asserragliate a Cervignano del Friuli che, poche ore più tardi, \r\n",
        "divenne la prima città conquistata. All'alba dello stesso giorno la flotta austro-ungarica bombardò la stazione ferroviaria di Manfredonia; \r\n",
        "alle 23:56, bom\"\"\"\r\n",
        "list_text = text.split()\r\n",
        "print(list_text)\r\n",
        "solo_num = []\r\n",
        "for cha in list_text:\r\n",
        "  if cha.isdecimal():\r\n",
        "    cha.strip()\r\n",
        "    solo_num += [cha]\r\n",
        "print(solo_num)"
      ],
      "execution_count": null,
      "outputs": [
        {
          "output_type": "stream",
          "text": [
            "['decise', 'di', 'entrare', 'in', 'guerra', 'il', '24', 'maggio', '1915.', 'Il', 'comando', \"dell'esercito\", 'venne', 'affidato', 'al', 'generale', 'Luigi', 'Cadorna,', 'che', 'aveva', 'come', 'obiettivo', 'il', 'raggiungimento', 'di', 'Vienna', 'passando', 'per', 'Lubiana.[4]', \"All'alba\", 'del', '24', 'maggio', 'il', 'Regio', 'Esercito', 'sparò', 'il', 'primo', 'colpo', 'di', 'cannone', 'contro', 'le', 'postazioni', 'austro-ungariche', 'asserragliate', 'a', 'Cervignano', 'del', 'Friuli', 'che,', 'poche', 'ore', 'più', 'tardi,', 'divenne', 'la', 'prima', 'città', 'conquistata.', \"All'alba\", 'dello', 'stesso', 'giorno', 'la', 'flotta', 'austro-ungarica', 'bombardò', 'la', 'stazione', 'ferroviaria', 'di', 'Manfredonia;', 'alle', '23:56,', 'bom']\n",
            "['24', '24']\n"
          ],
          "name": "stdout"
        }
      ]
    },
    {
      "cell_type": "code",
      "metadata": {
        "id": "leuvaSbTTN2v"
      },
      "source": [
        "text =  \"\"\"decise di entrare in guerra il 24 maggio 1915. Il Cadorna, per Lubiana.[4] All'alba del 24; alle 23:56, \"\"\"\r\n",
        "for item in text.split():\r\n",
        "  dep = item.strip()\r\n",
        "  print(dep)\r\n",
        "  #if dep.isdecimal():\r\n",
        "    \r\n",
        "    #print(int (dep.strip()))"
      ],
      "execution_count": null,
      "outputs": []
    },
    {
      "cell_type": "code",
      "metadata": {
        "colab": {
          "base_uri": "https://localhost:8080/"
        },
        "id": "YU7l32bpVBCC",
        "outputId": "090b4dd2-7f75-4c1a-9b81-4a4625845cc2"
      },
      "source": [
        "#Questo mi da come risultato i numeri sciolti, ma non quelli che mi servono.\r\n",
        "import re\r\n",
        "text =  \"\"\"decise di entrare in guerra il 24 maggio 1915. Il comando dell'esercito venne affidato al generale Luigi Cadorna, \r\n",
        "che aveva come obiettivo il raggiungimento di Vienna passando per Lubiana.[4] All'alba del 24 maggio il Regio Esercito sparò \r\n",
        "il primo colpo di cannone contro le postazioni austro-ungariche asserragliate a Cervignano del Friuli che, poche ore più tardi, \r\n",
        "divenne la prima città conquistata. All'alba dello stesso giorno la flotta austro-ungarica bombardò la stazione ferroviaria di Manfredonia; \r\n",
        "alle 23:56, bom\"\"\"\r\n",
        "solo_n = []\r\n",
        "text = re.sub(\"\\D\", \"\", text)\r\n",
        "for item in text.split():\r\n",
        "  \r\n",
        "\r\n",
        "    solo_n += item\r\n",
        "    print(solo_n)\r\n",
        "\r\n",
        "#solo_n = []"
      ],
      "execution_count": null,
      "outputs": [
        {
          "output_type": "stream",
          "text": [
            "['2', '4', '1', '9', '1', '5', '4', '2', '4', '2', '3', '5', '6']\n"
          ],
          "name": "stdout"
        }
      ]
    },
    {
      "cell_type": "code",
      "metadata": {
        "colab": {
          "base_uri": "https://localhost:8080/"
        },
        "id": "kZc2Mid3x-pB",
        "outputId": "3723f2cc-e5e5-4c71-895f-b2dcdc8f53e6"
      },
      "source": [
        "punctuations = '''!()-[]{};:'\"\\,<>./?@#$%^&*_~'''\r\n",
        "sin_puntos = ''\r\n",
        "def quitando_puntos(texto):\r\n",
        "  punctuations = '''!()-[]{};:'\"\\,<>./?@#$%^&*_~'''\r\n",
        "  sin_puntos = ''\r\n",
        "  for ch in texto:\r\n",
        "    if ch not in punctuations:\r\n",
        "      sin_puntos += ch\r\n",
        "  return sin_puntos\r\n",
        "print(quitando_puntos(\"\"\"El escenario, si tenéis la amabilidad de seguirme, ahora había cambiado.\r\n",
        "Las hojas seguían cayendo, pero ahora en Londres; .\"\"\".lower()))"
      ],
      "execution_count": 1,
      "outputs": [
        {
          "output_type": "stream",
          "text": [
            "el escenario si tenéis la amabilidad de seguirme ahora había cambiado\n",
            "las hojas seguían cayendo pero ahora en londres \n"
          ],
          "name": "stdout"
        }
      ]
    },
    {
      "cell_type": "code",
      "metadata": {
        "colab": {
          "base_uri": "https://localhost:8080/"
        },
        "id": "oqiJNlUzyGje",
        "outputId": "bc38bff7-4c0d-41eb-f339-6b9f52d0528f"
      },
      "source": [
        "text =  \"\"\"decise di entrare in guerra il 24 maggio 1915. Il comando dell'esercito venne affidato al generale Luigi Cadorna, \r\n",
        "che aveva come obiettivo il raggiungimento di Vienna passando per Lubiana.[4] All'alba del 24 maggio il Regio Esercito sparò \r\n",
        "il primo colpo di cannone contro le postazioni austro-ungariche asserragliate a Cervignano del Friuli che, poche ore più tardi, \r\n",
        "divenne la prima città conquistata. All'alba dello stesso giorno la flotta austro-ungarica bombardò la stazione ferroviaria di Manfredonia; \r\n",
        "alle 23:56, bom\"\"\"\r\n",
        "\r\n",
        "texto_sin_puntos = quitando_puntos(text)\r\n",
        "\r\n",
        "list_text = texto_sin_puntos.split()\r\n",
        "print(list_text)\r\n",
        "solo_num = []\r\n",
        "for cha in list_text:\r\n",
        "  if cha.isdecimal():\r\n",
        "    cha.strip()\r\n",
        "    solo_num += [cha]\r\n",
        "print(solo_num)"
      ],
      "execution_count": 9,
      "outputs": [
        {
          "output_type": "stream",
          "text": [
            "['decise', 'di', 'entrare', 'in', 'guerra', 'il', '24', 'maggio', '1915', 'Il', 'comando', 'dellesercito', 'venne', 'affidato', 'al', 'generale', 'Luigi', 'Cadorna', 'che', 'aveva', 'come', 'obiettivo', 'il', 'raggiungimento', 'di', 'Vienna', 'passando', 'per', 'Lubiana4', 'Allalba', 'del', '24', 'maggio', 'il', 'Regio', 'Esercito', 'sparò', 'il', 'primo', 'colpo', 'di', 'cannone', 'contro', 'le', 'postazioni', 'austroungariche', 'asserragliate', 'a', 'Cervignano', 'del', 'Friuli', 'che', 'poche', 'ore', 'più', 'tardi', 'divenne', 'la', 'prima', 'città', 'conquistata', 'Allalba', 'dello', 'stesso', 'giorno', 'la', 'flotta', 'austroungarica', 'bombardò', 'la', 'stazione', 'ferroviaria', 'di', 'Manfredonia', 'alle', '2356', 'bom']\n",
            "['24', '1915', '24', '2356']\n"
          ],
          "name": "stdout"
        }
      ]
    },
    {
      "cell_type": "markdown",
      "metadata": {
        "id": "5jtBUUNquRgP"
      },
      "source": [
        "\r\n",
        "\r\n",
        "---\r\n",
        "\r\n",
        "\r\n",
        "\r\n",
        "---\r\n",
        "\r\n",
        "---\r\n",
        "\r\n",
        "\r\n",
        "\r\n"
      ]
    },
    {
      "cell_type": "markdown",
      "metadata": {
        "id": "CScvR5rxp3QH"
      },
      "source": [
        "Filtro per vocali"
      ]
    },
    {
      "cell_type": "code",
      "metadata": {
        "id": "cF9NJT1CGjuu"
      },
      "source": [
        "#from: https://www.programiz.com/python-programming/methods/built-in/filter#:~:text=Join-,Python%20filter(),to%20be%20true%20or%20not.\r\n",
        "# list of letters\r\n",
        "letters = ['a', 'b', 'd', 'e', 'i', 'j', 'o']\r\n",
        "\r\n",
        "# function that filters vowels\r\n",
        "def filterVowels(letter):\r\n",
        "    vowels = ['a', 'e', 'i', 'o', 'u']\r\n",
        "\r\n",
        "    if(letter in vowels):\r\n",
        "        return True\r\n",
        "    else:\r\n",
        "        return False\r\n",
        "\r\n",
        "filteredVowels = filter(filterVowels, letters)\r\n",
        "\r\n",
        "print('The filtered vowels are:')\r\n",
        "for vowel in filteredVowels:\r\n",
        "    print(vowel)"
      ],
      "execution_count": null,
      "outputs": []
    },
    {
      "cell_type": "markdown",
      "metadata": {
        "id": "ggBXnkf463Ic"
      },
      "source": [
        "Escriba un programa que imprima los números del 1 al 100. Pero para los múltiplos de tres escriba “Fizz” en lugar del número y para los múltiplos de cinco escriba “Buzz”. Para números que son múltiplos de tres y cinco, imprima \"FizzBuzz\"."
      ]
    },
    {
      "cell_type": "code",
      "metadata": {
        "id": "q-wai-yj626C"
      },
      "source": [
        "numeros = list(range(1,101))\r\n",
        "print(numeros)\r\n",
        "for n in numeros:\r\n",
        "  if n % 3 == 0 and n % 5 == 0:\r\n",
        "    print('FizzBuzz')\r\n",
        "  elif n % 3 == 0:\r\n",
        "    print('Fizz')\r\n",
        "  elif n % 5 == 0:\r\n",
        "    print('Buzz')\r\n"
      ],
      "execution_count": null,
      "outputs": []
    },
    {
      "cell_type": "markdown",
      "metadata": {
        "id": "Fx3lqETgUIog"
      },
      "source": [
        " ### Additional external exercises\r\n",
        "\r\n",
        " - https://holypython.com/intermediate-python-exercises/exercise-16-python-list-comprehensions/"
      ]
    },
    {
      "cell_type": "code",
      "metadata": {
        "colab": {
          "base_uri": "https://localhost:8080/"
        },
        "id": "-kHFJkNd9rFc",
        "outputId": "6e75f4ce-543e-4b58-b156-23621f6f8725"
      },
      "source": [
        "dicc={\"Sedan\": 1500, \"SUV\": 2000, \"Pickup\": 2500, \"Minivan\": 1600, \"Van\": 2400, \"Semi\": 13600, \"Bicycle\": 7, \"Motorcycle\": 110}\r\n",
        "\r\n",
        "#Type your answer here.\r\n",
        "\r\n",
        "lst=[item.upper() for item in dicc if dicc[item] < 5000]\r\n",
        "\r\n",
        "print(lst)"
      ],
      "execution_count": null,
      "outputs": [
        {
          "output_type": "stream",
          "text": [
            "['SEDAN', 'SUV', 'PICKUP', 'MINIVAN', 'VAN', 'BICYCLE', 'MOTORCYCLE']\n"
          ],
          "name": "stdout"
        }
      ]
    },
    {
      "cell_type": "code",
      "metadata": {
        "id": "8wJtE5Zg6Usj"
      },
      "source": [
        ""
      ],
      "execution_count": null,
      "outputs": []
    },
    {
      "cell_type": "markdown",
      "metadata": {
        "id": "KVO8_M7AmLqB"
      },
      "source": [
        "Esercizio 010: Generatore di Istogrammi\r\n",
        "Scrivi una funzione che, data una lista di numeri, fornisce in output un istogramma basato su questi numeri, usando asterischi per disegnarlo.\r\n",
        "\r\n",
        "Data ad esempio la lista [3, 7, 9, 5], la funzione dovrà produrre questa sequenza:\r\n",
        "\r\n",
        "***\r\n",
        "\r\n",
        "*******\r\n",
        "\r\n",
        "*********\r\n",
        "\r\n",
        "*****"
      ]
    },
    {
      "cell_type": "code",
      "metadata": {
        "colab": {
          "base_uri": "https://localhost:8080/"
        },
        "id": "SiG4TEsvmKJK",
        "outputId": "9ea5fec4-3665-4272-948b-79299268498e"
      },
      "source": [
        "lista = list(range(1,20))\r\n",
        "for n in lista:\r\n",
        "  print(n * '*')"
      ],
      "execution_count": null,
      "outputs": [
        {
          "output_type": "stream",
          "text": [
            "*\n",
            "**\n",
            "***\n",
            "****\n",
            "*****\n",
            "******\n",
            "*******\n",
            "********\n",
            "*********\n",
            "**********\n",
            "***********\n",
            "************\n",
            "*************\n",
            "**************\n",
            "***************\n",
            "****************\n",
            "*****************\n",
            "******************\n",
            "*******************\n"
          ],
          "name": "stdout"
        }
      ]
    }
  ]
}